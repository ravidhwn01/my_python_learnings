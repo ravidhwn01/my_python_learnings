{
  "nbformat": 4,
  "nbformat_minor": 0,
  "metadata": {
    "colab": {
      "provenance": [],
      "authorship_tag": "ABX9TyPlg/0/FZVJ0firFu+MbvGT",
      "include_colab_link": true
    },
    "kernelspec": {
      "name": "python3",
      "display_name": "Python 3"
    },
    "language_info": {
      "name": "python"
    }
  },
  "cells": [
    {
      "cell_type": "markdown",
      "metadata": {
        "id": "view-in-github",
        "colab_type": "text"
      },
      "source": [
        "<a href=\"https://colab.research.google.com/github/ravidhwn01/my_python_learnings/blob/main/KNN_single_class.ipynb\" target=\"_parent\"><img src=\"https://colab.research.google.com/assets/colab-badge.svg\" alt=\"Open In Colab\"/></a>"
      ]
    },
    {
      "cell_type": "code",
      "execution_count": 17,
      "metadata": {
        "id": "mgUtxfGb83W0"
      },
      "outputs": [],
      "source": [
        "import pandas as pd\n",
        "import numpy as np\n",
        "import math\n",
        "from collections import Counter"
      ]
    },
    {
      "cell_type": "code",
      "source": [
        "def euclidean_distance(point1, point2):\n",
        "    distance = 0.0\n",
        "    for i in range(len(point1)):\n",
        "        distance += (point1[i] - point2[i]) ** 2\n",
        "    return math.sqrt(distance)"
      ],
      "metadata": {
        "id": "X6J43OFjDf6V"
      },
      "execution_count": 18,
      "outputs": []
    },
    {
      "cell_type": "code",
      "source": [
        "# K-NN algorithm function\n",
        "def knn(train_data, train_labels, test_data, k):\n",
        "    predictions = []\n",
        "\n",
        "    for test_point in test_data:\n",
        "        # Calculate distances between the test point and all train points\n",
        "        distances = []\n",
        "        for i, train_point in enumerate(train_data):\n",
        "            dist = euclidean_distance(test_point, train_point)\n",
        "            distances.append((dist, train_labels[i]))\n",
        "\n",
        "        # Sort the distances based on the first element (distance)\n",
        "        distances.sort(key=lambda x: x[0])\n",
        "\n",
        "        # Select the k nearest neighbors\n",
        "        k_nearest_neighbors = [label for _, label in distances[:k]]\n",
        "\n",
        "        # Majority voting\n",
        "        majority_label = Counter(k_nearest_neighbors).most_common(1)[0][0]\n",
        "        predictions.append(majority_label)\n",
        "\n",
        "    return predictions\n"
      ],
      "metadata": {
        "id": "tdtrdam8Fr7M"
      },
      "execution_count": 19,
      "outputs": []
    },
    {
      "cell_type": "code",
      "source": [
        "if __name__ == \"__main__\":\n",
        "    # Sample dataset (features and labels)\n",
        "    train_data = [[1, 2], [2, 3], [3, 4], [6, 5], [7, 8], [8, 8]]\n",
        "    train_labels = ['A', 'A', 'A', 'B', 'B', 'B']\n",
        "\n",
        "    # Test data (to classify)\n",
        "    test_data = [[7, 6], [9, 6]]\n",
        "\n",
        "    # Set number of neighbors (k)\n",
        "    k = 5\n",
        "\n",
        "    # Predict using K-NN\n",
        "    predictions = knn(train_data, train_labels, test_data, k)\n",
        "    print(\"Predictions:\", predictions)"
      ],
      "metadata": {
        "colab": {
          "base_uri": "https://localhost:8080/"
        },
        "id": "y2TW725BFy-x",
        "outputId": "b2632378-af67-4604-ccec-b26139c09fa3"
      },
      "execution_count": 22,
      "outputs": [
        {
          "output_type": "stream",
          "name": "stdout",
          "text": [
            "Predictions: ['B', 'B']\n"
          ]
        }
      ]
    },
    {
      "cell_type": "code",
      "source": [],
      "metadata": {
        "id": "kuf0sPQmMCl5"
      },
      "execution_count": null,
      "outputs": []
    }
  ]
}